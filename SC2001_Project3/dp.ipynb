{
 "cells": [
  {
   "attachments": {},
   "cell_type": "markdown",
   "metadata": {},
   "source": [
    "We have a knapsack of capacity weight C (a positive integer) and n types of objects.\n",
    "Each object of the ith type has weight wi and profit pi (all wi and all pi are positive\n",
    "integers, i = 0, 1, …, n-1). There are unlimited supplies of each type of objects. Find\n",
    "the largest total profit of any set of the objects that fits in the knapsack.\n",
    "\n",
    "This is different from the classical knapsack problem, as the number of items to maximise profit will always be the same.\n",
    "\n",
    "### Part 1: Give a recursive definition of function P(C)\n",
    "\n",
    "P(C) = max { pi + P(C — wi), P(C)} "
   ]
  },
  {
   "attachments": {},
   "cell_type": "markdown",
   "metadata": {},
   "source": [
    "### Part 3: Give a DP Algorithm to compute the maximum profit\n",
    "\n",
    "Since the number of items to maximise the profit is always the same, we can use a 1D Array to memoize our solution to the problem, as the only condition that will change now is C.  \n",
    "\n",
    "The algorithm will be as follows:\n",
    "\n",
    "1. Looping through all possible capacities *i* of the Knapsack until **C**\n",
    "2. For each item of weight **w[j]**\n",
    "    - If there is capacity in the bag\n",
    "        - Compare the profit of including that item vs not including that item and take the max\n",
    "        - Memoize this profit in **profit[i]**\n",
    "        \n",
    "  \n",
    "3. Return **profit**"
   ]
  },
  {
   "attachments": {},
   "cell_type": "markdown",
   "metadata": {},
   "source": [
    "### Part 4: Code your algorithm in a Programming Language"
   ]
  },
  {
   "cell_type": "code",
   "execution_count": 16,
   "metadata": {},
   "outputs": [],
   "source": [
    "def knapsack(w,p,C,n):\n",
    "    profit = [0 for i in range(C+1)]\n",
    "\n",
    "    # For all capacities\n",
    "    for i in range(1,C+1):\n",
    "\n",
    "        # Checking each item\n",
    "        for j in range(n):\n",
    "\n",
    "            # Check if there is enough capacity for current item in the bag\n",
    "            if w[j] <= i:\n",
    "\n",
    "                # Two scenarios compared:\n",
    "                # 1. Profit where current item is not included\n",
    "                # 2. Profit where current item is included\n",
    "\n",
    "                profit[i] = max(profit[i],profit[i-w[j]]+p[j])\n",
    "                \n",
    "    return profit"
   ]
  },
  {
   "attachments": {},
   "cell_type": "markdown",
   "metadata": {},
   "source": [
    "#### Part 4a"
   ]
  },
  {
   "cell_type": "code",
   "execution_count": 18,
   "metadata": {},
   "outputs": [
    {
     "name": "stdout",
     "output_type": "stream",
     "text": [
      "[0, 0, 0, 0, 7, 7, 7, 7, 14, 14, 14, 14, 21, 21, 21]\n"
     ]
    }
   ],
   "source": [
    "weight = [4,6,8]\n",
    "profit = [7,6,9]\n",
    "\n",
    "print(knapsack(weight,profit,14,len(weight)))"
   ]
  },
  {
   "attachments": {},
   "cell_type": "markdown",
   "metadata": {},
   "source": [
    "#### Part 4b"
   ]
  },
  {
   "cell_type": "code",
   "execution_count": 19,
   "metadata": {},
   "outputs": [
    {
     "name": "stdout",
     "output_type": "stream",
     "text": [
      "[0, 0, 0, 0, 0, 7, 7, 7, 9, 9, 14, 14, 14, 16, 16]\n"
     ]
    }
   ],
   "source": [
    "weight = [5,6,8]\n",
    "profit = [7,6,9]\n",
    "\n",
    "print(knapsack(weight,profit,14,len(weight)))"
   ]
  }
 ],
 "metadata": {
  "kernelspec": {
   "display_name": "Python 3",
   "language": "python",
   "name": "python3"
  },
  "language_info": {
   "codemirror_mode": {
    "name": "ipython",
    "version": 3
   },
   "file_extension": ".py",
   "mimetype": "text/x-python",
   "name": "python",
   "nbconvert_exporter": "python",
   "pygments_lexer": "ipython3",
   "version": "3.9.1"
  },
  "orig_nbformat": 4
 },
 "nbformat": 4,
 "nbformat_minor": 2
}
